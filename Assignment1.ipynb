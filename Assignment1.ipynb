{
 "cells": [
  {
   "cell_type": "raw",
   "metadata": {},
   "source": [
    "1) A company decided to give bonus of 5% to employee if his/her year of service is more than 5 years.\n",
    "Ask user for their salary and year of service and print the net bonus amount."
   ]
  },
  {
   "cell_type": "code",
   "execution_count": 1,
   "metadata": {},
   "outputs": [
    {
     "name": "stdout",
     "output_type": "stream",
     "text": [
      "Enter Your Salary: 7000\n",
      "Enter Your Experience years: 5\n",
      "350.0\n"
     ]
    }
   ],
   "source": [
    "Bonus = 0.05\n",
    "Salary = int(input(\"Enter Your Salary: \"))\n",
    "Years_Ex= int(input(\"Enter Your Experience years: \" ))\n",
    "if Years_Ex < 5:\n",
    "    print(\"Your not eligible\")\n",
    "    \n",
    "else:\n",
    "    print(Salary*Bonus)"
   ]
  },
  {
   "cell_type": "markdown",
   "metadata": {},
   "source": [
    "\n",
    "2) Write a program to check whether a person is eligible for voting or not. (accept age from user) if age is greater than 17 eligible otherwise not eligible"
   ]
  },
  {
   "cell_type": "code",
   "execution_count": 4,
   "metadata": {},
   "outputs": [
    {
     "name": "stdout",
     "output_type": "stream",
     "text": [
      "Type Your Age: 18\n",
      "You are Vooting\n"
     ]
    }
   ],
   "source": [
    "Age = int(input(\"Type Your Age: \"))\n",
    "if Age>17:\n",
    "    print(\"You are Vooting\")\n",
    "else:\n",
    "    print(\"Your not\")"
   ]
  },
  {
   "cell_type": "markdown",
   "metadata": {},
   "source": [
    "\n",
    "3) Write a program to check whether a number entered by user is even or odd."
   ]
  },
  {
   "cell_type": "code",
   "execution_count": 6,
   "metadata": {},
   "outputs": [
    {
     "name": "stdout",
     "output_type": "stream",
     "text": [
      "Write Number: 360\n",
      "Even\n"
     ]
    }
   ],
   "source": [
    "number = int(input(\"Write Number: \"))\n",
    "if number%2 ==0:\n",
    "    print(\"Even\")\n",
    "else:\n",
    "    print(\"Odd\")"
   ]
  },
  {
   "cell_type": "markdown",
   "metadata": {},
   "source": [
    "4) Write a program to check whether a number is divisible by 7 or not.\n",
    "Show Answer"
   ]
  },
  {
   "cell_type": "code",
   "execution_count": 8,
   "metadata": {},
   "outputs": [
    {
     "name": "stdout",
     "output_type": "stream",
     "text": [
      "Enter No: 36\n",
      "not  divisible\n"
     ]
    }
   ],
   "source": [
    "Number=int(input(\"Enter No: \"))\n",
    "if Number%7==0:\n",
    "    print(\"Divisible By 7\")\n",
    "else:\n",
    "    print(\"not  divisible\")"
   ]
  },
  {
   "cell_type": "raw",
   "metadata": {},
   "source": [
    "5) Write a program to display \n",
    "\"Hello\" if a number entered by user is a multiple of five , otherwise print \"Bye\"."
   ]
  },
  {
   "cell_type": "code",
   "execution_count": 10,
   "metadata": {},
   "outputs": [
    {
     "name": "stdout",
     "output_type": "stream",
     "text": [
      "Enter Your number: 25\n",
      "Hello\n"
     ]
    }
   ],
   "source": [
    "num=int(input(\"Enter Your number: \"))\n",
    "if num%5==0:\n",
    "    print(\"Hello\")\n",
    "else:\n",
    "    print(\"Bye\")"
   ]
  },
  {
   "cell_type": "raw",
   "metadata": {},
   "source": [
    "7) Write a program to display the last digit of a number.\n"
   ]
  },
  {
   "cell_type": "code",
   "execution_count": 13,
   "metadata": {},
   "outputs": [
    {
     "name": "stdout",
     "output_type": "stream",
     "text": [
      "9\n"
     ]
    }
   ],
   "source": [
    "no=2569\n",
    "last_digit=no%10\n",
    "print(last_digit)"
   ]
  },
  {
   "cell_type": "raw",
   "metadata": {},
   "source": [
    "Q8. Write a program to check whether the last digit of a number( entered by user ) is \n",
    "divisible by 3 or not."
   ]
  },
  {
   "cell_type": "code",
   "execution_count": 12,
   "metadata": {},
   "outputs": [
    {
     "name": "stdout",
     "output_type": "stream",
     "text": [
      "type number: 25\n",
      "not divide\n"
     ]
    }
   ],
   "source": [
    "NUMBER=int(input(\"type number: \"))\n",
    "Last_digit=NUMBER% 10\n",
    "if Last_digit%3==0:\n",
    "    print(\"divisible by 3\")\n",
    "    \n",
    "else:\n",
    "    print(\"not divide\")"
   ]
  },
  {
   "cell_type": "raw",
   "metadata": {},
   "source": [
    "9) Take values of length and breadth of a rectangle from user and print if it is square or rectangle."
   ]
  },
  {
   "cell_type": "code",
   "execution_count": 1,
   "metadata": {},
   "outputs": [
    {
     "name": "stdout",
     "output_type": "stream",
     "text": [
      "type value of length: 45\n",
      "type value of breadth 12\n",
      "Rectangle\n"
     ]
    }
   ],
   "source": [
    "length=int(input(\"type value of length: \"))\n",
    "breadth=int(input(\"type value of breadth \"))\n",
    "\n",
    "if length>breadth:\n",
    "    print(\"Rectangle\")\n",
    "elif length==breadth:\n",
    "    print(\"Square\")\n",
    "else:\n",
    "    print(\"error\")"
   ]
  },
  {
   "cell_type": "raw",
   "metadata": {},
   "source": [
    "10) Take two int values from user and print greatest among them."
   ]
  },
  {
   "cell_type": "code",
   "execution_count": 2,
   "metadata": {},
   "outputs": [
    {
     "name": "stdout",
     "output_type": "stream",
     "text": [
      "Type 1st value: 65\n",
      "Type 2nd value: 450\n",
      "450\n"
     ]
    }
   ],
   "source": [
    "value1=int(input(\"Type 1st value: \"))\n",
    "value2=int(input(\"Type 2nd value: \"))\n",
    "if value1>value2:\n",
    "    print(value1)\n",
    "else:\n",
    "    print(value2)"
   ]
  },
  {
   "cell_type": "raw",
   "metadata": {},
   "source": [
    "11) A shop will give discount of 10% if the cost of purchased quantity is more than 1000.\n",
    "Ask user for quantity\n",
    "Suppose, one unit will cost 100.\n",
    "Judge and print total cost for user."
   ]
  },
  {
   "cell_type": "code",
   "execution_count": 5,
   "metadata": {},
   "outputs": [
    {
     "name": "stdout",
     "output_type": "stream",
     "text": [
      "Type items: 12\n",
      "1080.0\n"
     ]
    }
   ],
   "source": [
    "discount=0.10\n",
    "Unit_price=100\n",
    "quantity=int(input(\"Type items: \"))\n",
    "total_cost=Unit_price*quantity\n",
    "if total_cost<=1000:\n",
    "    print(\"no discount\")\n",
    "else:\n",
    "    print(total_cost-(total_cost*discount))"
   ]
  },
  {
   "cell_type": "raw",
   "metadata": {},
   "source": [
    "12) A school has following rules for grading system:\n",
    "\n",
    "a. Below 25 - F\n",
    "\n",
    "b. 25 to 45 - E\n",
    "\n",
    "c. 45 to 50 - D\n",
    "\n",
    "d. 50 to 60 - C\n",
    "\n",
    "e. 60 to 80 - B\n",
    "\n",
    "f. Above 80 - A\n",
    "\n",
    "Ask user to enter marks and print the corresponding grade."
   ]
  },
  {
   "cell_type": "code",
   "execution_count": 13,
   "metadata": {},
   "outputs": [
    {
     "name": "stdout",
     "output_type": "stream",
     "text": [
      "enter your marks: 75\n",
      "B\n"
     ]
    }
   ],
   "source": [
    "marks=int(input(\"enter your marks: \"))\n",
    "\n",
    "if marks<25:\n",
    "    print(\"F\")\n",
    "elif marks<=45:\n",
    "    print(\"E\")\n",
    "elif marks<=50:\n",
    "    print(\"D\")\n",
    "elif marks<=60:\n",
    "    print(\"C\")\n",
    "elif marks<=80:\n",
    "    print(\"B\")\n",
    "elif marks>80:\n",
    "    print(\"A\")\n",
    "else:\n",
    "    print(\"absent\")"
   ]
  },
  {
   "cell_type": "raw",
   "metadata": {},
   "source": [
    "14)A student will not be allowed to sit in exam if his/her attendence is less than 75%.\n",
    "\n",
    "Take following input from user\n",
    "\n",
    "Number of classes held\n",
    "\n",
    "Number of classes attended.\n",
    "\n",
    "And print\n",
    "\n",
    "percentage of class attended\n",
    "\n",
    "Is student is allowed to sit in exam or not.\n"
   ]
  },
  {
   "cell_type": "code",
   "execution_count": 15,
   "metadata": {},
   "outputs": [
    {
     "name": "stdout",
     "output_type": "stream",
     "text": [
      "enter total no of classes: 310\n",
      "enter no of classes your present in: 260\n",
      "you can sit\n"
     ]
    }
   ],
   "source": [
    "classes_held=int(input(\"enter total no of classes: \"))\n",
    "classes_attended=int(input(\"enter no of classes your present in: \"))\n",
    "Percentage=(classes_attended*100)/classes_held\n",
    "if Percentage<75:\n",
    "    print(\"Your Are Not Allowed\")\n",
    "else:\n",
    "    print(\"you can sit\")"
   ]
  },
  {
   "cell_type": "raw",
   "metadata": {},
   "source": [
    "15) Modify the above question to allow student to sit if he/she has medical cause. Ask user if he/she has medical cause or not ( 'Y' or 'N' ) and print accordingly."
   ]
  },
  {
   "cell_type": "code",
   "execution_count": 19,
   "metadata": {},
   "outputs": [
    {
     "name": "stdout",
     "output_type": "stream",
     "text": [
      "enter total no of classes: 310\n",
      "enter no of classes your present in: 280\n",
      "You have any medical cause y or n: yes\n",
      "Your Are  Allowed\n",
      "your welcome\n"
     ]
    }
   ],
   "source": [
    "classes_held=int(input(\"enter total no of classes: \"))\n",
    "classes_attended=int(input(\"enter no of classes your present in: \"))\n",
    "Percentage=(classes_attended*100)/classes_held\n",
    "medical_cause=input(\"You have any medical cause y or n: \")\n",
    "if Percentage>75:\n",
    "    print(\"Your Are  Allowed\")\n",
    "    if medical_cause==\"yes\":\n",
    "        print(\"your welcome\")\n",
    "    else:\n",
    "        print(\"your not welcome\")\n",
    "            \n",
    "    \n",
    "else:\n",
    "    print(\"you can,t sit\")"
   ]
  },
  {
   "cell_type": "raw",
   "metadata": {},
   "source": [
    "16) Write a program to check if a year is leap year or not.\n",
    "\n",
    "If a year is divisible by 4 then it is leap year but if the year is century year like 2000, 1900, 2100 then it must be divisible by 400."
   ]
  },
  {
   "cell_type": "code",
   "execution_count": 3,
   "metadata": {},
   "outputs": [
    {
     "name": "stdout",
     "output_type": "stream",
     "text": [
      "the year is: 2000\n",
      "2000is a leap year\n",
      "2000is a leap year\n"
     ]
    }
   ],
   "source": [
    "year = int(input(\"the year is: \"))\n",
    "\n",
    "if year%4==0:\n",
    "    print(f\"{year}is a leap year\")\n",
    "    if year%400==0:\n",
    "        print(f\"{year}is a leap year\")\n",
    "    else:\n",
    "        print(f\"{year}is not a leap year\")          \n",
    "else:\n",
    "     print(f\"{year}is not a leap year\")         \n",
    "              \n",
    "                \n",
    "                  \n",
    "                  \n",
    "        "
   ]
  },
  {
   "cell_type": "raw",
   "metadata": {},
   "source": [
    "17) Ask user to enter age, gender ( M or F ), marital status ( Y or N ) and then using following rules print their place of service.\n",
    "\n",
    "if employee is female, then she will work only in urban areas.\n",
    "\n",
    "if employee is a male and age is in between 20 to 40 then he may work in anywhere\n",
    "\n",
    "if employee is male and age is in between 40 t0 60 then he will work in urban areas only.\n",
    "\n",
    "And any other input of age should print \"ERROR\""
   ]
  },
  {
   "cell_type": "code",
   "execution_count": 6,
   "metadata": {},
   "outputs": [
    {
     "name": "stdout",
     "output_type": "stream",
     "text": [
      "enter your age: 25\n",
      "enter your gender: m\n",
      "are you married or not: y\n",
      "urban areas only\n"
     ]
    }
   ],
   "source": [
    "age = int(input(\"enter your age: \"))\n",
    "gender=(input(\"enter your gender: \"))\n",
    "marital_status=(input(\"are you married or not: \"))\n",
    "\n",
    "if gender==\"f\":\n",
    "    print(\"Work Only in urban areas\" )\n",
    "if gender==\"m\":\n",
    "    if 20 >= age <= 40:\n",
    "        print(\"Work anywhere\")\n",
    "    if 40 >= age <= 60:\n",
    "        print(\"urban areas only\")\n",
    "    else:\n",
    "        print(\"ERROR\")"
   ]
  },
  {
   "cell_type": "raw",
   "metadata": {},
   "source": [
    "6) Write a program to calculate the electricity bill (accept number of unit from user) according to the following criteria :\n",
    "     Unit                                                     Price  \n",
    "uptp 100 units                                             no charge\n",
    "Next 200 units                                              Rs 5 per unit\n",
    "After 200 units                                             Rs 10 per unit\n",
    "(For example if input unit is 350 than total bill amount is Rs.3500\n",
    "(For example if input unit is 97 than total bill amount is Rs.0\n",
    "(For example if input unit is 150 than total bill amount is Rs.750"
   ]
  },
  {
   "cell_type": "code",
   "execution_count": 12,
   "metadata": {},
   "outputs": [
    {
     "name": "stdout",
     "output_type": "stream",
     "text": [
      "enter no of units: 300\n",
      "total electricity bill is: 3000\n"
     ]
    }
   ],
   "source": [
    "unit=int(input(\"enter no of units: \"))\n",
    "\n",
    "if unit<=100:\n",
    "    total_bill=0\n",
    "elif unit<=200:\n",
    "    total_bill = unit * 5\n",
    "else:\n",
    "    total_bill= unit * 10\n",
    "print(f\"total electricity bill is: {total_bill}\")    "
   ]
  },
  {
   "cell_type": "raw",
   "metadata": {},
   "source": [
    "13) Take input of age of 3 people by user and determine oldest and youngest among them."
   ]
  },
  {
   "cell_type": "code",
   "execution_count": 14,
   "metadata": {},
   "outputs": [
    {
     "name": "stdout",
     "output_type": "stream",
     "text": [
      "enter age of 1st person :15\n",
      "enter age of 2nd person :22\n",
      "enter age of 3rd person :35\n",
      "youngest person age 15\n",
      "Oldest person age: 35\n"
     ]
    }
   ],
   "source": [
    "age1 = int(input(\"enter age of 1st person :\"))\n",
    "age2 = int(input(\"enter age of 2nd person :\"))\n",
    "age3 = int(input(\"enter age of 3rd person :\"))\n",
    "\n",
    "oldest = age1\n",
    "\n",
    "if age2 > oldest:\n",
    "    oldest = age2\n",
    "if age3 > oldest:\n",
    "    oldest = age3\n",
    "\n",
    "youngest = age1\n",
    "\n",
    "if age2 < youngest:\n",
    "    youngest = age2\n",
    "if age3 < youngest:\n",
    "    youngest = age3\n",
    "       \n",
    "print(f\"youngest person age {youngest}\")\n",
    "print(f\"Oldest person age: {oldest}\")"
   ]
  },
  {
   "cell_type": "code",
   "execution_count": null,
   "metadata": {},
   "outputs": [],
   "source": []
  },
  {
   "cell_type": "code",
   "execution_count": null,
   "metadata": {},
   "outputs": [],
   "source": []
  }
 ],
 "metadata": {
  "kernelspec": {
   "display_name": "Python 3 (ipykernel)",
   "language": "python",
   "name": "python3"
  },
  "language_info": {
   "codemirror_mode": {
    "name": "ipython",
    "version": 3
   },
   "file_extension": ".py",
   "mimetype": "text/x-python",
   "name": "python",
   "nbconvert_exporter": "python",
   "pygments_lexer": "ipython3",
   "version": "3.11.5"
  }
 },
 "nbformat": 4,
 "nbformat_minor": 2
}
